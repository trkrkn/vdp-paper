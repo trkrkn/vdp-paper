{
 "cells": [
  {
   "cell_type": "markdown",
   "metadata": {},
   "source": [
    "# Vertically Disintegrated Platforms\n",
    "### Code for replication of numerical results (Figure 2)\n",
    "*Reference*: \n",
    "Aymanns, Christoph, Mathias Dewatripont, and Tarik Roukny. \"Vertically Disintegrated Platforms.\" Available at SSRN 3507355 (2019)."
   ]
  },
  {
   "cell_type": "code",
   "execution_count": 1,
   "metadata": {},
   "outputs": [],
   "source": [
    "import numpy as np\n",
    "import math\n",
    "import matplotlib.pylab as plt\n",
    "import seaborn as sns\n",
    "import pandas as pd\n",
    "from copy import deepcopy\n",
    "from scipy.stats import expon\n",
    "from scipy.optimize import fsolve\n",
    "from scipy.stats import gamma as gamma_dist\n",
    "from scipy.special import gamma as gamma_fun\n",
    "from scipy.integrate import quad\n",
    "from scipy.optimize import minimize\n",
    "from scipy.optimize import minimize"
   ]
  },
  {
   "cell_type": "markdown",
   "metadata": {},
   "source": [
    "### Functions"
   ]
  },
  {
   "cell_type": "code",
   "execution_count": 9,
   "metadata": {},
   "outputs": [],
   "source": [
    "def F_mu(x, params):\n",
    "    temp1 = gamma_dist.cdf(x, params['shape'], loc=params['loc'], scale=params['scale'])\n",
    "    return temp1\n",
    "\n",
    "def f_mu(x, params):\n",
    "    temp1 = gamma_dist.pdf(x, params['shape'], loc=params['loc'], scale=params['scale'])\n",
    "    return temp1\n",
    "\n",
    "def comp_demand(p, params):\n",
    "    return 1 - F_mu(p, params)\n",
    "\n",
    "def comp_supply(p, params):\n",
    "    return 1 - np.exp(-params['lam'] * p)\n",
    "\n",
    "def cost(d, params):\n",
    "    lam = params['lam']\n",
    "    c_star = -1. / lam * np.log(1 - d)\n",
    "    c = - c_star * np.exp(-lam * c_star) + 1. / lam * (1 - np.exp(-lam * c_star))\n",
    "    return c, c_star\n",
    "\n",
    "def profit_vip(p, params_d, params_s):\n",
    "    d = comp_demand(p, params_d)\n",
    "    c, c_star = cost(d, params_s)\n",
    "    prof = p * d - c - params_s['integration'](d)\n",
    "    return prof\n",
    "\n",
    "def profit_vdp(p, params_d, params_s):\n",
    "    d = comp_demand(p, params_d)\n",
    "    c, c_star = cost(d, params_s)\n",
    "    prof = p * d - c_star * d\n",
    "    return prof\n",
    "\n",
    "def market_clear(p, t, params_d, params_s):\n",
    "    d = comp_demand(p, params_d)\n",
    "    s = comp_supply(p*(1-t), params_s)\n",
    "    return d - s\n",
    "\n",
    "def profit_vdp_t(t, params_d, params_s):\n",
    "    p = fsolve(market_clear, 1, args=(t, params_d, params_s, ))\n",
    "    d = comp_demand(p, params_d)\n",
    "    prof = t * d * p\n",
    "    return prof, p, d\n",
    "\n",
    "def fun_vdp(x, params_d, params_s):\n",
    "    prof, p, d = profit_vdp_t(x, params_d, params_s)\n",
    "    return -prof\n",
    "\n",
    "def fun_vip(x, params_d, params_s):\n",
    "    prof = profit_vip(x, params_d, params_s)\n",
    "    return -prof\n",
    "\n",
    "def user_platform_preferences(slope, intercept, params_d, params_s, exponent=1):\n",
    "    params_s['integration'] = lambda x : slope *x**exponent + intercept\n",
    "    opt_vip = minimize(fun_vip, 30., (params_d, params_s, ))\n",
    "    demand_vip = comp_demand(opt_vip['x'], params_d)[0]\n",
    "    vip_profit = -opt_vip['fun']\n",
    "    return vip_profit, demand_vip"
   ]
  },
  {
   "cell_type": "markdown",
   "metadata": {},
   "source": [
    "### Computation"
   ]
  },
  {
   "cell_type": "code",
   "execution_count": 16,
   "metadata": {},
   "outputs": [
    {
     "name": "stdout",
     "output_type": "stream",
     "text": [
      "CPU times: user 23.5 s, sys: 121 ms, total: 23.6 s\n",
      "Wall time: 23.7 s\n"
     ]
    }
   ],
   "source": [
    "%%time\n",
    "params_d = {\n",
    "    'shape' : 3,\n",
    "    'loc' : 20,\n",
    "    'scale' : 1/0.1\n",
    "}\n",
    "\n",
    "params_s = {\n",
    "    'lam' : 0.5,\n",
    "    'integration' : None\n",
    "}\n",
    "\n",
    "opt_vdp = minimize(fun_vdp, 0.1, (params_d, params_s, ))\n",
    "p_vdp = fsolve(market_clear, 1, args=(opt_vdp['x'], params_d, params_s, ))\n",
    "demand_vdp = comp_demand(p_vdp, params_d)[0]\n",
    "vdp_profit = -opt_vdp['fun']\n",
    "\n",
    "# param value (alpha, beta)\n",
    "slopes = np.linspace(0, 10.1, num=100)\n",
    "intercepts = np.linspace(-5.1, 5.1, num=100)\n",
    "\n",
    "vip_profit = np.zeros((slopes.shape[0], intercepts.shape[0]))\n",
    "demand_vip = np.zeros((slopes.shape[0], intercepts.shape[0]))\n",
    "\n",
    "for i, s in enumerate(slopes):\n",
    "    for j, inter in enumerate(intercepts):\n",
    "        vip_profit[i, j], demand_vip[i, j] = user_platform_preferences(s, inter, params_d, params_s, exponent=1)\n",
    "        \n",
    "d_profit = vip_profit - vdp_profit\n",
    "d_demand = demand_vip - demand_vdp"
   ]
  },
  {
   "cell_type": "markdown",
   "metadata": {},
   "source": [
    "### Data treatment"
   ]
  },
  {
   "cell_type": "code",
   "execution_count": 17,
   "metadata": {},
   "outputs": [],
   "source": [
    "d_demand_df = pd.DataFrame(d_demand, columns=np.around(intercepts, decimals=2), index=np.around(slopes, decimals=2))\n",
    "d_profit_df = pd.DataFrame(d_profit, columns=np.around(intercepts, decimals=2), index=np.around(slopes, decimals=2))\n",
    "vip_profit_df = pd.DataFrame(vip_profit, columns=np.around(intercepts, decimals=2), index=np.around(slopes, decimals=2))"
   ]
  },
  {
   "cell_type": "code",
   "execution_count": 18,
   "metadata": {},
   "outputs": [],
   "source": [
    "combined = np.zeros(d_demand.shape)\n",
    "for i in range(combined.shape[0]):\n",
    "    for j in range(combined.shape[1]):\n",
    "        if d_demand[i, j] > 0 and d_profit[i, j] > 0:\n",
    "            flag = 1\n",
    "        elif d_demand[i, j] < 0 and d_profit[i, j] > 0:\n",
    "            flag = 2\n",
    "        elif d_demand[i, j] > 0 and d_profit[i, j] < 0:\n",
    "            flag = 3\n",
    "        elif d_demand[i, j] < 0 and d_profit[i, j] < 0:\n",
    "            flag = 4\n",
    "            \n",
    "        combined[i, j] = flag\n",
    "combined_df = pd.DataFrame(combined, columns=np.around(intercepts, decimals=1), index=np.around(slopes, decimals=1))"
   ]
  },
  {
   "cell_type": "markdown",
   "metadata": {},
   "source": [
    "### Visualisation"
   ]
  },
  {
   "cell_type": "code",
   "execution_count": 20,
   "metadata": {},
   "outputs": [
    {
     "name": "stderr",
     "output_type": "stream",
     "text": [
      "/opt/anaconda3/lib/python3.7/site-packages/ipykernel_launcher.py:13: UserWarning: Matplotlib is currently using module://ipykernel.pylab.backend_inline, which is a non-GUI backend, so cannot show the figure.\n",
      "  del sys.path[0]\n"
     ]
    },
    {
     "data": {
      "image/png": "[encoded data removed]",
      "text/plain": [
       "<Figure size 360x360 with 1 Axes>"
      ]
     },
     "metadata": {
      "needs_background": "light"
     },
     "output_type": "display_data"
    }
   ],
   "source": [
    "sns.set_context('talk')\n",
    "f, ax = plt.subplots(1, 1, figsize=(5, 5), sharey=True)\n",
    "sns.heatmap(combined_df, cbar=False, square=True, cmap='Greys', center=True, ax=ax)\n",
    "ax.set_xlabel(r'$\\alpha$')\n",
    "ax.set_ylabel(r'$\\beta$')\n",
    "ax.invert_yaxis()\n",
    "ax.text(10, 20, 'II',family='serif', color='white') # A: user and platform prefer VIP\n",
    "ax.text(70, 20, 'ID', family='serif',color='white') # B: user prefers VIP, platform prefers VDP\n",
    "ax.text(70, 80, 'DD', family='serif', color='white') # C : user prefers VDP, platform prefers VDP\n",
    "ax.text(4, 64, 'DI', family='serif', color='white') # D: user prefers VDP, platform prefers VIP\n",
    "# f.savefig('user_platform_preference_regions.pdf')\n",
    "f.show()"
   ]
  }
 ],
 "metadata": {
  "kernelspec": {
   "display_name": "Python 3",
   "language": "python",
   "name": "python3"
  },
  "language_info": {
   "codemirror_mode": {
    "name": "ipython",
    "version": 3
   },
   "file_extension": ".py",
   "mimetype": "text/x-python",
   "name": "python",
   "nbconvert_exporter": "python",
   "pygments_lexer": "ipython3",
   "version": "3.7.4"
  }
 },
 "nbformat": 4,
 "nbformat_minor": 2
}
